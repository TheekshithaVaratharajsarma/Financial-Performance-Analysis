{
 "cells": [
  {
   "attachments": {},
   "cell_type": "markdown",
   "metadata": {
    "id": "Mtq4FEuGieWu"
   },
   "source": [
    "<img src=\"Apple.jpg\" alt=\"Apple\" width=\"350\" align=\"right\">\n",
    "\n",
    "\n",
    "# **RATIO ANALYSIS OF APPLE INC.**        \n",
    "\n",
    "#### **HNDDS23.1F Computational Finance OBL Group Assignment**\n",
    "\n",
    "COHNDDS23.1F-012 Theekshitha \n",
    "\n",
    "\n",
    "\n",
    "\n",
    "\n",
    "\n",
    "\n",
    "\n",
    "\n",
    "\n",
    "\n",
    "\n",
    "\n",
    "\n",
    "\n",
    "\n",
    "\n",
    "\n",
    "## **INTRODUCTION**\n",
    "\n",
    "#### **Apple**\n",
    "\n",
    "Apple Inc is a renowned Americal Multi-national Technology Company with its headquarters located in California. It is the world's largest technology company having earned a revenue of $394.3 Billion in 2022. It is also important to note that it is the first in the list of companies with highest market capitalization by March 2023.\n",
    "\n",
    "Looking into the roots, Apple was founded in the year 1976 by Steve Jobs, Steve Wozniak, and Ronald Wayne. It is a pioneer in the distribution of software, electronics and online services worldwide. The most renowed product line of the company consists of iPhones, iPad, Mac Computers, Apple watches etc. Also, the linked platforms like iOS, macOS, and iTunes are popular all around the world.\n",
    "\n",
    "In short Apple is an influencial technology company with a very high market capital share that always initiates innovations, excellent designs and user experience.\n",
    "\n",
    "#### **Ratio Analysis**\n",
    "\n",
    "Ratio analysis is a quantitative method to get insights of a company's financial performance performed by analysis financial statements such as the income statement and the balance sheet.\n",
    "\n",
    "In this report, we have imported Apple's financial statements and performed ratio analysis comparing the company's financial performance between the years 2021 and 2022.\n"
   ]
  },
  {
   "cell_type": "code",
   "execution_count": 40,
   "metadata": {
    "id": "1vhJqrUPpdKO"
   },
   "outputs": [],
   "source": [
    "#pip install yfinance"
   ]
  },
  {
   "cell_type": "code",
   "execution_count": 5,
   "metadata": {
    "id": "AjBYYo38jONm"
   },
   "outputs": [],
   "source": [
    "import pandas as pd\n",
    "import yfinance as yf\n",
    "import matplotlib.pyplot as plt\n",
    "import numpy as np\n",
    "def comparing_2021_2022(Series,table,ylabel=\"Ration between 2021 and 2022\"):\n",
    "\n",
    "    fig, ax = plt.subplots(figsize=(3.5, 5))\n",
    "\n",
    "    years = Series.index.year.values\n",
    "    ratios = Series.values\n",
    "    ax.bar(x=years, height=ratios, width=0.3)\n",
    "\n",
    "    for year, ratio in zip(years, ratios):\n",
    "         ax.text(year-0.1, ratio+0.01, f\"{np.round(ratio, 2)}\", fontsize=10, fontweight='bold')\n",
    "    ax.set_xticks(years);\n",
    "    ax.spines['top'].set_visible(False)\n",
    "    ax.spines['right'].set_visible(False)\n",
    "    ax.set_xticklabels(years)\n",
    "    ax.set_title(title, fontsize=14, fontweight='bold')\n",
    "    ax.set_xlabel(\"year\", fontsize=14)\n",
    "    ax.set_ylabel(ylabel, fontsize=14)\n",
    "\n",
    "    fig.tight_layout()\n",
    "\n",
    "    return fig"
   ]
  },
  {
   "cell_type": "markdown",
   "metadata": {
    "id": "fNYP0RfSPsH6"
   },
   "source": [
    "#### **Balance Sheet**"
   ]
  },
  {
   "cell_type": "code",
   "execution_count": 6,
   "metadata": {
    "colab": {
     "base_uri": "https://localhost:8080/",
     "height": 1000
    },
    "id": "4aQUnNw4pkpu",
    "outputId": "c0767870-47aa-478f-a34a-f50cdf24a74a"
   },
   "outputs": [
    {
     "data": {
      "text/html": [
       "<div>\n",
       "<style scoped>\n",
       "    .dataframe tbody tr th:only-of-type {\n",
       "        vertical-align: middle;\n",
       "    }\n",
       "\n",
       "    .dataframe tbody tr th {\n",
       "        vertical-align: top;\n",
       "    }\n",
       "\n",
       "    .dataframe thead th {\n",
       "        text-align: right;\n",
       "    }\n",
       "</style>\n",
       "<table border=\"1\" class=\"dataframe\">\n",
       "  <thead>\n",
       "    <tr style=\"text-align: right;\">\n",
       "      <th></th>\n",
       "      <th>2022-09-30</th>\n",
       "      <th>2021-09-30</th>\n",
       "    </tr>\n",
       "  </thead>\n",
       "  <tbody>\n",
       "    <tr>\n",
       "      <th>OrdinarySharesNumber</th>\n",
       "      <td>15943425000.0</td>\n",
       "      <td>16426786000.0</td>\n",
       "    </tr>\n",
       "    <tr>\n",
       "      <th>ShareIssued</th>\n",
       "      <td>15943425000.0</td>\n",
       "      <td>16426786000.0</td>\n",
       "    </tr>\n",
       "    <tr>\n",
       "      <th>NetDebt</th>\n",
       "      <td>96423000000.0</td>\n",
       "      <td>89779000000.0</td>\n",
       "    </tr>\n",
       "    <tr>\n",
       "      <th>TotalDebt</th>\n",
       "      <td>120069000000.0</td>\n",
       "      <td>124719000000.0</td>\n",
       "    </tr>\n",
       "    <tr>\n",
       "      <th>TangibleBookValue</th>\n",
       "      <td>50672000000.0</td>\n",
       "      <td>63090000000.0</td>\n",
       "    </tr>\n",
       "    <tr>\n",
       "      <th>InvestedCapital</th>\n",
       "      <td>170741000000.0</td>\n",
       "      <td>187809000000.0</td>\n",
       "    </tr>\n",
       "    <tr>\n",
       "      <th>WorkingCapital</th>\n",
       "      <td>-18577000000.0</td>\n",
       "      <td>9355000000.0</td>\n",
       "    </tr>\n",
       "    <tr>\n",
       "      <th>NetTangibleAssets</th>\n",
       "      <td>50672000000.0</td>\n",
       "      <td>63090000000.0</td>\n",
       "    </tr>\n",
       "    <tr>\n",
       "      <th>CommonStockEquity</th>\n",
       "      <td>50672000000.0</td>\n",
       "      <td>63090000000.0</td>\n",
       "    </tr>\n",
       "    <tr>\n",
       "      <th>TotalCapitalization</th>\n",
       "      <td>149631000000.0</td>\n",
       "      <td>172196000000.0</td>\n",
       "    </tr>\n",
       "    <tr>\n",
       "      <th>TotalEquityGrossMinorityInterest</th>\n",
       "      <td>50672000000.0</td>\n",
       "      <td>63090000000.0</td>\n",
       "    </tr>\n",
       "    <tr>\n",
       "      <th>StockholdersEquity</th>\n",
       "      <td>50672000000.0</td>\n",
       "      <td>63090000000.0</td>\n",
       "    </tr>\n",
       "    <tr>\n",
       "      <th>GainsLossesNotAffectingRetainedEarnings</th>\n",
       "      <td>-11109000000.0</td>\n",
       "      <td>163000000.0</td>\n",
       "    </tr>\n",
       "    <tr>\n",
       "      <th>RetainedEarnings</th>\n",
       "      <td>-3068000000.0</td>\n",
       "      <td>5562000000.0</td>\n",
       "    </tr>\n",
       "    <tr>\n",
       "      <th>CapitalStock</th>\n",
       "      <td>64849000000.0</td>\n",
       "      <td>57365000000.0</td>\n",
       "    </tr>\n",
       "    <tr>\n",
       "      <th>CommonStock</th>\n",
       "      <td>64849000000.0</td>\n",
       "      <td>57365000000.0</td>\n",
       "    </tr>\n",
       "    <tr>\n",
       "      <th>TotalLiabilitiesNetMinorityInterest</th>\n",
       "      <td>302083000000.0</td>\n",
       "      <td>287912000000.0</td>\n",
       "    </tr>\n",
       "    <tr>\n",
       "      <th>TotalNonCurrentLiabilitiesNetMinorityInterest</th>\n",
       "      <td>148101000000.0</td>\n",
       "      <td>162431000000.0</td>\n",
       "    </tr>\n",
       "    <tr>\n",
       "      <th>OtherNonCurrentLiabilities</th>\n",
       "      <td>49142000000.0</td>\n",
       "      <td>53325000000.0</td>\n",
       "    </tr>\n",
       "    <tr>\n",
       "      <th>TradeandOtherPayablesNonCurrent</th>\n",
       "      <td>16657000000.0</td>\n",
       "      <td>24689000000.0</td>\n",
       "    </tr>\n",
       "    <tr>\n",
       "      <th>LongTermDebtAndCapitalLeaseObligation</th>\n",
       "      <td>98959000000.0</td>\n",
       "      <td>109106000000.0</td>\n",
       "    </tr>\n",
       "    <tr>\n",
       "      <th>LongTermDebt</th>\n",
       "      <td>98959000000.0</td>\n",
       "      <td>109106000000.0</td>\n",
       "    </tr>\n",
       "    <tr>\n",
       "      <th>CurrentLiabilities</th>\n",
       "      <td>153982000000.0</td>\n",
       "      <td>125481000000.0</td>\n",
       "    </tr>\n",
       "    <tr>\n",
       "      <th>OtherCurrentLiabilities</th>\n",
       "      <td>60845000000.0</td>\n",
       "      <td>47493000000.0</td>\n",
       "    </tr>\n",
       "    <tr>\n",
       "      <th>CurrentDeferredLiabilities</th>\n",
       "      <td>7912000000.0</td>\n",
       "      <td>7612000000.0</td>\n",
       "    </tr>\n",
       "    <tr>\n",
       "      <th>CurrentDeferredRevenue</th>\n",
       "      <td>7912000000.0</td>\n",
       "      <td>7612000000.0</td>\n",
       "    </tr>\n",
       "    <tr>\n",
       "      <th>CurrentDebtAndCapitalLeaseObligation</th>\n",
       "      <td>21110000000.0</td>\n",
       "      <td>15613000000.0</td>\n",
       "    </tr>\n",
       "    <tr>\n",
       "      <th>CurrentDebt</th>\n",
       "      <td>21110000000.0</td>\n",
       "      <td>15613000000.0</td>\n",
       "    </tr>\n",
       "    <tr>\n",
       "      <th>OtherCurrentBorrowings</th>\n",
       "      <td>11128000000.0</td>\n",
       "      <td>9613000000.0</td>\n",
       "    </tr>\n",
       "    <tr>\n",
       "      <th>CommercialPaper</th>\n",
       "      <td>9982000000.0</td>\n",
       "      <td>6000000000.0</td>\n",
       "    </tr>\n",
       "    <tr>\n",
       "      <th>PayablesAndAccruedExpenses</th>\n",
       "      <td>64115000000.0</td>\n",
       "      <td>54763000000.0</td>\n",
       "    </tr>\n",
       "    <tr>\n",
       "      <th>Payables</th>\n",
       "      <td>64115000000.0</td>\n",
       "      <td>54763000000.0</td>\n",
       "    </tr>\n",
       "    <tr>\n",
       "      <th>AccountsPayable</th>\n",
       "      <td>64115000000.0</td>\n",
       "      <td>54763000000.0</td>\n",
       "    </tr>\n",
       "    <tr>\n",
       "      <th>TotalAssets</th>\n",
       "      <td>352755000000.0</td>\n",
       "      <td>351002000000.0</td>\n",
       "    </tr>\n",
       "    <tr>\n",
       "      <th>TotalNonCurrentAssets</th>\n",
       "      <td>217350000000.0</td>\n",
       "      <td>216166000000.0</td>\n",
       "    </tr>\n",
       "    <tr>\n",
       "      <th>OtherNonCurrentAssets</th>\n",
       "      <td>54428000000.0</td>\n",
       "      <td>48849000000.0</td>\n",
       "    </tr>\n",
       "    <tr>\n",
       "      <th>InvestmentsAndAdvances</th>\n",
       "      <td>120805000000.0</td>\n",
       "      <td>127877000000.0</td>\n",
       "    </tr>\n",
       "    <tr>\n",
       "      <th>OtherInvestments</th>\n",
       "      <td>120805000000.0</td>\n",
       "      <td>127877000000.0</td>\n",
       "    </tr>\n",
       "    <tr>\n",
       "      <th>InvestmentinFinancialAssets</th>\n",
       "      <td>120805000000.0</td>\n",
       "      <td>127877000000.0</td>\n",
       "    </tr>\n",
       "    <tr>\n",
       "      <th>AvailableForSaleSecurities</th>\n",
       "      <td>120805000000.0</td>\n",
       "      <td>127877000000.0</td>\n",
       "    </tr>\n",
       "    <tr>\n",
       "      <th>NetPPE</th>\n",
       "      <td>42117000000.0</td>\n",
       "      <td>39440000000.0</td>\n",
       "    </tr>\n",
       "    <tr>\n",
       "      <th>AccumulatedDepreciation</th>\n",
       "      <td>-72340000000.0</td>\n",
       "      <td>-70283000000.0</td>\n",
       "    </tr>\n",
       "    <tr>\n",
       "      <th>GrossPPE</th>\n",
       "      <td>114457000000.0</td>\n",
       "      <td>109723000000.0</td>\n",
       "    </tr>\n",
       "    <tr>\n",
       "      <th>Leases</th>\n",
       "      <td>11271000000.0</td>\n",
       "      <td>11023000000.0</td>\n",
       "    </tr>\n",
       "    <tr>\n",
       "      <th>MachineryFurnitureEquipment</th>\n",
       "      <td>81060000000.0</td>\n",
       "      <td>78659000000.0</td>\n",
       "    </tr>\n",
       "    <tr>\n",
       "      <th>LandAndImprovements</th>\n",
       "      <td>22126000000.0</td>\n",
       "      <td>20041000000.0</td>\n",
       "    </tr>\n",
       "    <tr>\n",
       "      <th>Properties</th>\n",
       "      <td>0.0</td>\n",
       "      <td>0.0</td>\n",
       "    </tr>\n",
       "    <tr>\n",
       "      <th>CurrentAssets</th>\n",
       "      <td>135405000000.0</td>\n",
       "      <td>134836000000.0</td>\n",
       "    </tr>\n",
       "    <tr>\n",
       "      <th>OtherCurrentAssets</th>\n",
       "      <td>21223000000.0</td>\n",
       "      <td>14111000000.0</td>\n",
       "    </tr>\n",
       "    <tr>\n",
       "      <th>Inventory</th>\n",
       "      <td>4946000000.0</td>\n",
       "      <td>6580000000.0</td>\n",
       "    </tr>\n",
       "    <tr>\n",
       "      <th>Receivables</th>\n",
       "      <td>60932000000.0</td>\n",
       "      <td>51506000000.0</td>\n",
       "    </tr>\n",
       "    <tr>\n",
       "      <th>OtherReceivables</th>\n",
       "      <td>32748000000.0</td>\n",
       "      <td>25228000000.0</td>\n",
       "    </tr>\n",
       "    <tr>\n",
       "      <th>AccountsReceivable</th>\n",
       "      <td>28184000000.0</td>\n",
       "      <td>26278000000.0</td>\n",
       "    </tr>\n",
       "    <tr>\n",
       "      <th>CashCashEquivalentsAndShortTermInvestments</th>\n",
       "      <td>48304000000.0</td>\n",
       "      <td>62639000000.0</td>\n",
       "    </tr>\n",
       "    <tr>\n",
       "      <th>OtherShortTermInvestments</th>\n",
       "      <td>24658000000.0</td>\n",
       "      <td>27699000000.0</td>\n",
       "    </tr>\n",
       "    <tr>\n",
       "      <th>CashAndCashEquivalents</th>\n",
       "      <td>23646000000.0</td>\n",
       "      <td>34940000000.0</td>\n",
       "    </tr>\n",
       "    <tr>\n",
       "      <th>CashEquivalents</th>\n",
       "      <td>5100000000.0</td>\n",
       "      <td>17635000000.0</td>\n",
       "    </tr>\n",
       "    <tr>\n",
       "      <th>CashFinancial</th>\n",
       "      <td>18546000000.0</td>\n",
       "      <td>17305000000.0</td>\n",
       "    </tr>\n",
       "  </tbody>\n",
       "</table>\n",
       "</div>"
      ],
      "text/plain": [
       "                                                   2022-09-30      2021-09-30\n",
       "OrdinarySharesNumber                            15943425000.0   16426786000.0\n",
       "ShareIssued                                     15943425000.0   16426786000.0\n",
       "NetDebt                                         96423000000.0   89779000000.0\n",
       "TotalDebt                                      120069000000.0  124719000000.0\n",
       "TangibleBookValue                               50672000000.0   63090000000.0\n",
       "InvestedCapital                                170741000000.0  187809000000.0\n",
       "WorkingCapital                                 -18577000000.0    9355000000.0\n",
       "NetTangibleAssets                               50672000000.0   63090000000.0\n",
       "CommonStockEquity                               50672000000.0   63090000000.0\n",
       "TotalCapitalization                            149631000000.0  172196000000.0\n",
       "TotalEquityGrossMinorityInterest                50672000000.0   63090000000.0\n",
       "StockholdersEquity                              50672000000.0   63090000000.0\n",
       "GainsLossesNotAffectingRetainedEarnings        -11109000000.0     163000000.0\n",
       "RetainedEarnings                                -3068000000.0    5562000000.0\n",
       "CapitalStock                                    64849000000.0   57365000000.0\n",
       "CommonStock                                     64849000000.0   57365000000.0\n",
       "TotalLiabilitiesNetMinorityInterest            302083000000.0  287912000000.0\n",
       "TotalNonCurrentLiabilitiesNetMinorityInterest  148101000000.0  162431000000.0\n",
       "OtherNonCurrentLiabilities                      49142000000.0   53325000000.0\n",
       "TradeandOtherPayablesNonCurrent                 16657000000.0   24689000000.0\n",
       "LongTermDebtAndCapitalLeaseObligation           98959000000.0  109106000000.0\n",
       "LongTermDebt                                    98959000000.0  109106000000.0\n",
       "CurrentLiabilities                             153982000000.0  125481000000.0\n",
       "OtherCurrentLiabilities                         60845000000.0   47493000000.0\n",
       "CurrentDeferredLiabilities                       7912000000.0    7612000000.0\n",
       "CurrentDeferredRevenue                           7912000000.0    7612000000.0\n",
       "CurrentDebtAndCapitalLeaseObligation            21110000000.0   15613000000.0\n",
       "CurrentDebt                                     21110000000.0   15613000000.0\n",
       "OtherCurrentBorrowings                          11128000000.0    9613000000.0\n",
       "CommercialPaper                                  9982000000.0    6000000000.0\n",
       "PayablesAndAccruedExpenses                      64115000000.0   54763000000.0\n",
       "Payables                                        64115000000.0   54763000000.0\n",
       "AccountsPayable                                 64115000000.0   54763000000.0\n",
       "TotalAssets                                    352755000000.0  351002000000.0\n",
       "TotalNonCurrentAssets                          217350000000.0  216166000000.0\n",
       "OtherNonCurrentAssets                           54428000000.0   48849000000.0\n",
       "InvestmentsAndAdvances                         120805000000.0  127877000000.0\n",
       "OtherInvestments                               120805000000.0  127877000000.0\n",
       "InvestmentinFinancialAssets                    120805000000.0  127877000000.0\n",
       "AvailableForSaleSecurities                     120805000000.0  127877000000.0\n",
       "NetPPE                                          42117000000.0   39440000000.0\n",
       "AccumulatedDepreciation                        -72340000000.0  -70283000000.0\n",
       "GrossPPE                                       114457000000.0  109723000000.0\n",
       "Leases                                          11271000000.0   11023000000.0\n",
       "MachineryFurnitureEquipment                     81060000000.0   78659000000.0\n",
       "LandAndImprovements                             22126000000.0   20041000000.0\n",
       "Properties                                                0.0             0.0\n",
       "CurrentAssets                                  135405000000.0  134836000000.0\n",
       "OtherCurrentAssets                              21223000000.0   14111000000.0\n",
       "Inventory                                        4946000000.0    6580000000.0\n",
       "Receivables                                     60932000000.0   51506000000.0\n",
       "OtherReceivables                                32748000000.0   25228000000.0\n",
       "AccountsReceivable                              28184000000.0   26278000000.0\n",
       "CashCashEquivalentsAndShortTermInvestments      48304000000.0   62639000000.0\n",
       "OtherShortTermInvestments                       24658000000.0   27699000000.0\n",
       "CashAndCashEquivalents                          23646000000.0   34940000000.0\n",
       "CashEquivalents                                  5100000000.0   17635000000.0\n",
       "CashFinancial                                   18546000000.0   17305000000.0"
      ]
     },
     "execution_count": 6,
     "metadata": {},
     "output_type": "execute_result"
    }
   ],
   "source": [
    "aapl=yf.Ticker('AAPL')\n",
    "balance = aapl.get_balance_sheet()\n",
    "balance = balance[['2022-09-30','2021-09-30']]\n",
    "balance"
   ]
  },
  {
   "cell_type": "markdown",
   "metadata": {
    "id": "yQUrbSNzP_-G"
   },
   "source": [
    "#### **Income Stetement**"
   ]
  },
  {
   "cell_type": "code",
   "execution_count": 7,
   "metadata": {
    "colab": {
     "base_uri": "https://localhost:8080/",
     "height": 1000
    },
    "id": "lJLMa8xStl7x",
    "outputId": "2703eced-0387-4878-eea9-1cbceca2bd24"
   },
   "outputs": [
    {
     "data": {
      "text/html": [
       "<div>\n",
       "<style scoped>\n",
       "    .dataframe tbody tr th:only-of-type {\n",
       "        vertical-align: middle;\n",
       "    }\n",
       "\n",
       "    .dataframe tbody tr th {\n",
       "        vertical-align: top;\n",
       "    }\n",
       "\n",
       "    .dataframe thead th {\n",
       "        text-align: right;\n",
       "    }\n",
       "</style>\n",
       "<table border=\"1\" class=\"dataframe\">\n",
       "  <thead>\n",
       "    <tr style=\"text-align: right;\">\n",
       "      <th></th>\n",
       "      <th>2022-09-30</th>\n",
       "      <th>2021-09-30</th>\n",
       "    </tr>\n",
       "  </thead>\n",
       "  <tbody>\n",
       "    <tr>\n",
       "      <th>TaxEffectOfUnusualItems</th>\n",
       "      <td>0.0</td>\n",
       "      <td>0.0</td>\n",
       "    </tr>\n",
       "    <tr>\n",
       "      <th>TaxRateForCalcs</th>\n",
       "      <td>0.162045</td>\n",
       "      <td>0.133023</td>\n",
       "    </tr>\n",
       "    <tr>\n",
       "      <th>NormalizedEBITDA</th>\n",
       "      <td>130541000000.0</td>\n",
       "      <td>120233000000.0</td>\n",
       "    </tr>\n",
       "    <tr>\n",
       "      <th>NetIncomeFromContinuingOperationNetMinorityInterest</th>\n",
       "      <td>99803000000.0</td>\n",
       "      <td>94680000000.0</td>\n",
       "    </tr>\n",
       "    <tr>\n",
       "      <th>ReconciledDepreciation</th>\n",
       "      <td>11104000000.0</td>\n",
       "      <td>11284000000.0</td>\n",
       "    </tr>\n",
       "    <tr>\n",
       "      <th>ReconciledCostOfRevenue</th>\n",
       "      <td>223546000000.0</td>\n",
       "      <td>212981000000.0</td>\n",
       "    </tr>\n",
       "    <tr>\n",
       "      <th>EBITDA</th>\n",
       "      <td>130541000000.0</td>\n",
       "      <td>120233000000.0</td>\n",
       "    </tr>\n",
       "    <tr>\n",
       "      <th>EBIT</th>\n",
       "      <td>119437000000.0</td>\n",
       "      <td>108949000000.0</td>\n",
       "    </tr>\n",
       "    <tr>\n",
       "      <th>NetInterestIncome</th>\n",
       "      <td>-106000000.0</td>\n",
       "      <td>198000000.0</td>\n",
       "    </tr>\n",
       "    <tr>\n",
       "      <th>InterestExpense</th>\n",
       "      <td>2931000000.0</td>\n",
       "      <td>2645000000.0</td>\n",
       "    </tr>\n",
       "    <tr>\n",
       "      <th>InterestIncome</th>\n",
       "      <td>2825000000.0</td>\n",
       "      <td>2843000000.0</td>\n",
       "    </tr>\n",
       "    <tr>\n",
       "      <th>NormalizedIncome</th>\n",
       "      <td>99803000000.0</td>\n",
       "      <td>94680000000.0</td>\n",
       "    </tr>\n",
       "    <tr>\n",
       "      <th>NetIncomeFromContinuingAndDiscontinuedOperation</th>\n",
       "      <td>99803000000.0</td>\n",
       "      <td>94680000000.0</td>\n",
       "    </tr>\n",
       "    <tr>\n",
       "      <th>TotalExpenses</th>\n",
       "      <td>274891000000.0</td>\n",
       "      <td>256868000000.0</td>\n",
       "    </tr>\n",
       "    <tr>\n",
       "      <th>TotalOperatingIncomeAsReported</th>\n",
       "      <td>119437000000.0</td>\n",
       "      <td>108949000000.0</td>\n",
       "    </tr>\n",
       "    <tr>\n",
       "      <th>DilutedAverageShares</th>\n",
       "      <td>16325819000.0</td>\n",
       "      <td>16864919000.0</td>\n",
       "    </tr>\n",
       "    <tr>\n",
       "      <th>BasicAverageShares</th>\n",
       "      <td>16215963000.0</td>\n",
       "      <td>16701272000.0</td>\n",
       "    </tr>\n",
       "    <tr>\n",
       "      <th>DilutedEPS</th>\n",
       "      <td>6.11</td>\n",
       "      <td>5.61</td>\n",
       "    </tr>\n",
       "    <tr>\n",
       "      <th>BasicEPS</th>\n",
       "      <td>6.15</td>\n",
       "      <td>5.67</td>\n",
       "    </tr>\n",
       "    <tr>\n",
       "      <th>DilutedNIAvailtoComStockholders</th>\n",
       "      <td>99803000000.0</td>\n",
       "      <td>94680000000.0</td>\n",
       "    </tr>\n",
       "    <tr>\n",
       "      <th>NetIncomeCommonStockholders</th>\n",
       "      <td>99803000000.0</td>\n",
       "      <td>94680000000.0</td>\n",
       "    </tr>\n",
       "    <tr>\n",
       "      <th>NetIncome</th>\n",
       "      <td>99803000000.0</td>\n",
       "      <td>94680000000.0</td>\n",
       "    </tr>\n",
       "    <tr>\n",
       "      <th>NetIncomeIncludingNoncontrollingInterests</th>\n",
       "      <td>99803000000.0</td>\n",
       "      <td>94680000000.0</td>\n",
       "    </tr>\n",
       "    <tr>\n",
       "      <th>NetIncomeContinuousOperations</th>\n",
       "      <td>99803000000.0</td>\n",
       "      <td>94680000000.0</td>\n",
       "    </tr>\n",
       "    <tr>\n",
       "      <th>TaxProvision</th>\n",
       "      <td>19300000000.0</td>\n",
       "      <td>14527000000.0</td>\n",
       "    </tr>\n",
       "    <tr>\n",
       "      <th>PretaxIncome</th>\n",
       "      <td>119103000000.0</td>\n",
       "      <td>109207000000.0</td>\n",
       "    </tr>\n",
       "    <tr>\n",
       "      <th>OtherIncomeExpense</th>\n",
       "      <td>-334000000.0</td>\n",
       "      <td>258000000.0</td>\n",
       "    </tr>\n",
       "    <tr>\n",
       "      <th>OtherNonOperatingIncomeExpenses</th>\n",
       "      <td>-334000000.0</td>\n",
       "      <td>258000000.0</td>\n",
       "    </tr>\n",
       "    <tr>\n",
       "      <th>NetNonOperatingInterestIncomeExpense</th>\n",
       "      <td>-106000000.0</td>\n",
       "      <td>198000000.0</td>\n",
       "    </tr>\n",
       "    <tr>\n",
       "      <th>InterestExpenseNonOperating</th>\n",
       "      <td>2931000000.0</td>\n",
       "      <td>2645000000.0</td>\n",
       "    </tr>\n",
       "    <tr>\n",
       "      <th>InterestIncomeNonOperating</th>\n",
       "      <td>2825000000.0</td>\n",
       "      <td>2843000000.0</td>\n",
       "    </tr>\n",
       "    <tr>\n",
       "      <th>OperatingIncome</th>\n",
       "      <td>119437000000.0</td>\n",
       "      <td>108949000000.0</td>\n",
       "    </tr>\n",
       "    <tr>\n",
       "      <th>OperatingExpense</th>\n",
       "      <td>51345000000.0</td>\n",
       "      <td>43887000000.0</td>\n",
       "    </tr>\n",
       "    <tr>\n",
       "      <th>ResearchAndDevelopment</th>\n",
       "      <td>26251000000.0</td>\n",
       "      <td>21914000000.0</td>\n",
       "    </tr>\n",
       "    <tr>\n",
       "      <th>SellingGeneralAndAdministration</th>\n",
       "      <td>25094000000.0</td>\n",
       "      <td>21973000000.0</td>\n",
       "    </tr>\n",
       "    <tr>\n",
       "      <th>GrossProfit</th>\n",
       "      <td>170782000000.0</td>\n",
       "      <td>152836000000.0</td>\n",
       "    </tr>\n",
       "    <tr>\n",
       "      <th>CostOfRevenue</th>\n",
       "      <td>223546000000.0</td>\n",
       "      <td>212981000000.0</td>\n",
       "    </tr>\n",
       "    <tr>\n",
       "      <th>TotalRevenue</th>\n",
       "      <td>394328000000.0</td>\n",
       "      <td>365817000000.0</td>\n",
       "    </tr>\n",
       "    <tr>\n",
       "      <th>OperatingRevenue</th>\n",
       "      <td>394328000000.0</td>\n",
       "      <td>365817000000.0</td>\n",
       "    </tr>\n",
       "  </tbody>\n",
       "</table>\n",
       "</div>"
      ],
      "text/plain": [
       "                                                        2022-09-30  \\\n",
       "TaxEffectOfUnusualItems                                        0.0   \n",
       "TaxRateForCalcs                                           0.162045   \n",
       "NormalizedEBITDA                                    130541000000.0   \n",
       "NetIncomeFromContinuingOperationNetMinorityInte...   99803000000.0   \n",
       "ReconciledDepreciation                               11104000000.0   \n",
       "ReconciledCostOfRevenue                             223546000000.0   \n",
       "EBITDA                                              130541000000.0   \n",
       "EBIT                                                119437000000.0   \n",
       "NetInterestIncome                                     -106000000.0   \n",
       "InterestExpense                                       2931000000.0   \n",
       "InterestIncome                                        2825000000.0   \n",
       "NormalizedIncome                                     99803000000.0   \n",
       "NetIncomeFromContinuingAndDiscontinuedOperation      99803000000.0   \n",
       "TotalExpenses                                       274891000000.0   \n",
       "TotalOperatingIncomeAsReported                      119437000000.0   \n",
       "DilutedAverageShares                                 16325819000.0   \n",
       "BasicAverageShares                                   16215963000.0   \n",
       "DilutedEPS                                                    6.11   \n",
       "BasicEPS                                                      6.15   \n",
       "DilutedNIAvailtoComStockholders                      99803000000.0   \n",
       "NetIncomeCommonStockholders                          99803000000.0   \n",
       "NetIncome                                            99803000000.0   \n",
       "NetIncomeIncludingNoncontrollingInterests            99803000000.0   \n",
       "NetIncomeContinuousOperations                        99803000000.0   \n",
       "TaxProvision                                         19300000000.0   \n",
       "PretaxIncome                                        119103000000.0   \n",
       "OtherIncomeExpense                                    -334000000.0   \n",
       "OtherNonOperatingIncomeExpenses                       -334000000.0   \n",
       "NetNonOperatingInterestIncomeExpense                  -106000000.0   \n",
       "InterestExpenseNonOperating                           2931000000.0   \n",
       "InterestIncomeNonOperating                            2825000000.0   \n",
       "OperatingIncome                                     119437000000.0   \n",
       "OperatingExpense                                     51345000000.0   \n",
       "ResearchAndDevelopment                               26251000000.0   \n",
       "SellingGeneralAndAdministration                      25094000000.0   \n",
       "GrossProfit                                         170782000000.0   \n",
       "CostOfRevenue                                       223546000000.0   \n",
       "TotalRevenue                                        394328000000.0   \n",
       "OperatingRevenue                                    394328000000.0   \n",
       "\n",
       "                                                        2021-09-30  \n",
       "TaxEffectOfUnusualItems                                        0.0  \n",
       "TaxRateForCalcs                                           0.133023  \n",
       "NormalizedEBITDA                                    120233000000.0  \n",
       "NetIncomeFromContinuingOperationNetMinorityInte...   94680000000.0  \n",
       "ReconciledDepreciation                               11284000000.0  \n",
       "ReconciledCostOfRevenue                             212981000000.0  \n",
       "EBITDA                                              120233000000.0  \n",
       "EBIT                                                108949000000.0  \n",
       "NetInterestIncome                                      198000000.0  \n",
       "InterestExpense                                       2645000000.0  \n",
       "InterestIncome                                        2843000000.0  \n",
       "NormalizedIncome                                     94680000000.0  \n",
       "NetIncomeFromContinuingAndDiscontinuedOperation      94680000000.0  \n",
       "TotalExpenses                                       256868000000.0  \n",
       "TotalOperatingIncomeAsReported                      108949000000.0  \n",
       "DilutedAverageShares                                 16864919000.0  \n",
       "BasicAverageShares                                   16701272000.0  \n",
       "DilutedEPS                                                    5.61  \n",
       "BasicEPS                                                      5.67  \n",
       "DilutedNIAvailtoComStockholders                      94680000000.0  \n",
       "NetIncomeCommonStockholders                          94680000000.0  \n",
       "NetIncome                                            94680000000.0  \n",
       "NetIncomeIncludingNoncontrollingInterests            94680000000.0  \n",
       "NetIncomeContinuousOperations                        94680000000.0  \n",
       "TaxProvision                                         14527000000.0  \n",
       "PretaxIncome                                        109207000000.0  \n",
       "OtherIncomeExpense                                     258000000.0  \n",
       "OtherNonOperatingIncomeExpenses                        258000000.0  \n",
       "NetNonOperatingInterestIncomeExpense                   198000000.0  \n",
       "InterestExpenseNonOperating                           2645000000.0  \n",
       "InterestIncomeNonOperating                            2843000000.0  \n",
       "OperatingIncome                                     108949000000.0  \n",
       "OperatingExpense                                     43887000000.0  \n",
       "ResearchAndDevelopment                               21914000000.0  \n",
       "SellingGeneralAndAdministration                      21973000000.0  \n",
       "GrossProfit                                         152836000000.0  \n",
       "CostOfRevenue                                       212981000000.0  \n",
       "TotalRevenue                                        365817000000.0  \n",
       "OperatingRevenue                                    365817000000.0  "
      ]
     },
     "execution_count": 7,
     "metadata": {},
     "output_type": "execute_result"
    }
   ],
   "source": [
    "income=aapl.get_income_stmt()\n",
    "income = income[['2022-09-30','2021-09-30']]\n",
    "income"
   ]
  },
  {
   "cell_type": "markdown",
   "metadata": {
    "id": "NN5iVSFyQJxH"
   },
   "source": [
    "#### **Cashflow**"
   ]
  },
  {
   "cell_type": "code",
   "execution_count": 8,
   "metadata": {
    "colab": {
     "base_uri": "https://localhost:8080/",
     "height": 1000
    },
    "id": "Tp2gasLHJz0b",
    "outputId": "2deb7e8b-609d-424a-c27d-bfa6cf119e3f"
   },
   "outputs": [
    {
     "data": {
      "text/html": [
       "<div>\n",
       "<style scoped>\n",
       "    .dataframe tbody tr th:only-of-type {\n",
       "        vertical-align: middle;\n",
       "    }\n",
       "\n",
       "    .dataframe tbody tr th {\n",
       "        vertical-align: top;\n",
       "    }\n",
       "\n",
       "    .dataframe thead th {\n",
       "        text-align: right;\n",
       "    }\n",
       "</style>\n",
       "<table border=\"1\" class=\"dataframe\">\n",
       "  <thead>\n",
       "    <tr style=\"text-align: right;\">\n",
       "      <th></th>\n",
       "      <th>2022-09-30</th>\n",
       "      <th>2021-09-30</th>\n",
       "    </tr>\n",
       "  </thead>\n",
       "  <tbody>\n",
       "    <tr>\n",
       "      <th>FreeCashFlow</th>\n",
       "      <td>111443000000.0</td>\n",
       "      <td>92953000000.0</td>\n",
       "    </tr>\n",
       "    <tr>\n",
       "      <th>RepurchaseOfCapitalStock</th>\n",
       "      <td>-89402000000.0</td>\n",
       "      <td>-85971000000.0</td>\n",
       "    </tr>\n",
       "    <tr>\n",
       "      <th>RepaymentOfDebt</th>\n",
       "      <td>-9543000000.0</td>\n",
       "      <td>-8750000000.0</td>\n",
       "    </tr>\n",
       "    <tr>\n",
       "      <th>IssuanceOfDebt</th>\n",
       "      <td>9420000000.0</td>\n",
       "      <td>20393000000.0</td>\n",
       "    </tr>\n",
       "    <tr>\n",
       "      <th>IssuanceOfCapitalStock</th>\n",
       "      <td>NaN</td>\n",
       "      <td>1105000000.0</td>\n",
       "    </tr>\n",
       "    <tr>\n",
       "      <th>CapitalExpenditure</th>\n",
       "      <td>-10708000000.0</td>\n",
       "      <td>-11085000000.0</td>\n",
       "    </tr>\n",
       "    <tr>\n",
       "      <th>InterestPaidSupplementalData</th>\n",
       "      <td>2865000000.0</td>\n",
       "      <td>2687000000.0</td>\n",
       "    </tr>\n",
       "    <tr>\n",
       "      <th>IncomeTaxPaidSupplementalData</th>\n",
       "      <td>19573000000.0</td>\n",
       "      <td>25385000000.0</td>\n",
       "    </tr>\n",
       "    <tr>\n",
       "      <th>EndCashPosition</th>\n",
       "      <td>24977000000.0</td>\n",
       "      <td>35929000000.0</td>\n",
       "    </tr>\n",
       "    <tr>\n",
       "      <th>BeginningCashPosition</th>\n",
       "      <td>35929000000.0</td>\n",
       "      <td>39789000000.0</td>\n",
       "    </tr>\n",
       "    <tr>\n",
       "      <th>ChangesInCash</th>\n",
       "      <td>-10952000000.0</td>\n",
       "      <td>-3860000000.0</td>\n",
       "    </tr>\n",
       "    <tr>\n",
       "      <th>FinancingCashFlow</th>\n",
       "      <td>-110749000000.0</td>\n",
       "      <td>-93353000000.0</td>\n",
       "    </tr>\n",
       "    <tr>\n",
       "      <th>CashFlowFromContinuingFinancingActivities</th>\n",
       "      <td>-110749000000.0</td>\n",
       "      <td>-93353000000.0</td>\n",
       "    </tr>\n",
       "    <tr>\n",
       "      <th>NetOtherFinancingCharges</th>\n",
       "      <td>-6383000000.0</td>\n",
       "      <td>-6685000000.0</td>\n",
       "    </tr>\n",
       "    <tr>\n",
       "      <th>CashDividendsPaid</th>\n",
       "      <td>-14841000000.0</td>\n",
       "      <td>-14467000000.0</td>\n",
       "    </tr>\n",
       "    <tr>\n",
       "      <th>CommonStockDividendPaid</th>\n",
       "      <td>-14841000000.0</td>\n",
       "      <td>-14467000000.0</td>\n",
       "    </tr>\n",
       "    <tr>\n",
       "      <th>NetCommonStockIssuance</th>\n",
       "      <td>-89402000000.0</td>\n",
       "      <td>-84866000000.0</td>\n",
       "    </tr>\n",
       "    <tr>\n",
       "      <th>CommonStockPayments</th>\n",
       "      <td>-89402000000.0</td>\n",
       "      <td>-85971000000.0</td>\n",
       "    </tr>\n",
       "    <tr>\n",
       "      <th>CommonStockIssuance</th>\n",
       "      <td>NaN</td>\n",
       "      <td>1105000000.0</td>\n",
       "    </tr>\n",
       "    <tr>\n",
       "      <th>NetIssuancePaymentsOfDebt</th>\n",
       "      <td>-123000000.0</td>\n",
       "      <td>12665000000.0</td>\n",
       "    </tr>\n",
       "    <tr>\n",
       "      <th>NetShortTermDebtIssuance</th>\n",
       "      <td>3955000000.0</td>\n",
       "      <td>1022000000.0</td>\n",
       "    </tr>\n",
       "    <tr>\n",
       "      <th>ShortTermDebtPayments</th>\n",
       "      <td>NaN</td>\n",
       "      <td>NaN</td>\n",
       "    </tr>\n",
       "    <tr>\n",
       "      <th>ShortTermDebtIssuance</th>\n",
       "      <td>3955000000.0</td>\n",
       "      <td>NaN</td>\n",
       "    </tr>\n",
       "    <tr>\n",
       "      <th>NetLongTermDebtIssuance</th>\n",
       "      <td>-4078000000.0</td>\n",
       "      <td>11643000000.0</td>\n",
       "    </tr>\n",
       "    <tr>\n",
       "      <th>LongTermDebtPayments</th>\n",
       "      <td>-9543000000.0</td>\n",
       "      <td>-8750000000.0</td>\n",
       "    </tr>\n",
       "    <tr>\n",
       "      <th>LongTermDebtIssuance</th>\n",
       "      <td>5465000000.0</td>\n",
       "      <td>20393000000.0</td>\n",
       "    </tr>\n",
       "    <tr>\n",
       "      <th>InvestingCashFlow</th>\n",
       "      <td>-22354000000.0</td>\n",
       "      <td>-14545000000.0</td>\n",
       "    </tr>\n",
       "    <tr>\n",
       "      <th>CashFlowFromContinuingInvestingActivities</th>\n",
       "      <td>-22354000000.0</td>\n",
       "      <td>-14545000000.0</td>\n",
       "    </tr>\n",
       "    <tr>\n",
       "      <th>NetOtherInvestingChanges</th>\n",
       "      <td>-1780000000.0</td>\n",
       "      <td>-352000000.0</td>\n",
       "    </tr>\n",
       "    <tr>\n",
       "      <th>NetInvestmentPurchaseAndSale</th>\n",
       "      <td>-9560000000.0</td>\n",
       "      <td>-3075000000.0</td>\n",
       "    </tr>\n",
       "    <tr>\n",
       "      <th>SaleOfInvestment</th>\n",
       "      <td>67363000000.0</td>\n",
       "      <td>106483000000.0</td>\n",
       "    </tr>\n",
       "    <tr>\n",
       "      <th>PurchaseOfInvestment</th>\n",
       "      <td>-76923000000.0</td>\n",
       "      <td>-109558000000.0</td>\n",
       "    </tr>\n",
       "    <tr>\n",
       "      <th>NetBusinessPurchaseAndSale</th>\n",
       "      <td>-306000000.0</td>\n",
       "      <td>-33000000.0</td>\n",
       "    </tr>\n",
       "    <tr>\n",
       "      <th>PurchaseOfBusiness</th>\n",
       "      <td>-306000000.0</td>\n",
       "      <td>-33000000.0</td>\n",
       "    </tr>\n",
       "    <tr>\n",
       "      <th>NetPPEPurchaseAndSale</th>\n",
       "      <td>-10708000000.0</td>\n",
       "      <td>-11085000000.0</td>\n",
       "    </tr>\n",
       "    <tr>\n",
       "      <th>PurchaseOfPPE</th>\n",
       "      <td>-10708000000.0</td>\n",
       "      <td>-11085000000.0</td>\n",
       "    </tr>\n",
       "    <tr>\n",
       "      <th>OperatingCashFlow</th>\n",
       "      <td>122151000000.0</td>\n",
       "      <td>104038000000.0</td>\n",
       "    </tr>\n",
       "    <tr>\n",
       "      <th>CashFlowFromContinuingOperatingActivities</th>\n",
       "      <td>122151000000.0</td>\n",
       "      <td>104038000000.0</td>\n",
       "    </tr>\n",
       "    <tr>\n",
       "      <th>ChangeInWorkingCapital</th>\n",
       "      <td>1200000000.0</td>\n",
       "      <td>-4911000000.0</td>\n",
       "    </tr>\n",
       "    <tr>\n",
       "      <th>ChangeInOtherWorkingCapital</th>\n",
       "      <td>478000000.0</td>\n",
       "      <td>1676000000.0</td>\n",
       "    </tr>\n",
       "    <tr>\n",
       "      <th>ChangeInOtherCurrentLiabilities</th>\n",
       "      <td>5632000000.0</td>\n",
       "      <td>5799000000.0</td>\n",
       "    </tr>\n",
       "    <tr>\n",
       "      <th>ChangeInOtherCurrentAssets</th>\n",
       "      <td>-6499000000.0</td>\n",
       "      <td>-8042000000.0</td>\n",
       "    </tr>\n",
       "    <tr>\n",
       "      <th>ChangeInPayablesAndAccruedExpense</th>\n",
       "      <td>9448000000.0</td>\n",
       "      <td>12326000000.0</td>\n",
       "    </tr>\n",
       "    <tr>\n",
       "      <th>ChangeInPayable</th>\n",
       "      <td>9448000000.0</td>\n",
       "      <td>12326000000.0</td>\n",
       "    </tr>\n",
       "    <tr>\n",
       "      <th>ChangeInAccountPayable</th>\n",
       "      <td>9448000000.0</td>\n",
       "      <td>12326000000.0</td>\n",
       "    </tr>\n",
       "    <tr>\n",
       "      <th>ChangeInInventory</th>\n",
       "      <td>1484000000.0</td>\n",
       "      <td>-2642000000.0</td>\n",
       "    </tr>\n",
       "    <tr>\n",
       "      <th>ChangeInReceivables</th>\n",
       "      <td>-9343000000.0</td>\n",
       "      <td>-14028000000.0</td>\n",
       "    </tr>\n",
       "    <tr>\n",
       "      <th>ChangesInAccountReceivables</th>\n",
       "      <td>-1823000000.0</td>\n",
       "      <td>-10125000000.0</td>\n",
       "    </tr>\n",
       "    <tr>\n",
       "      <th>OtherNonCashItems</th>\n",
       "      <td>111000000.0</td>\n",
       "      <td>-147000000.0</td>\n",
       "    </tr>\n",
       "    <tr>\n",
       "      <th>StockBasedCompensation</th>\n",
       "      <td>9038000000.0</td>\n",
       "      <td>7906000000.0</td>\n",
       "    </tr>\n",
       "    <tr>\n",
       "      <th>DeferredTax</th>\n",
       "      <td>895000000.0</td>\n",
       "      <td>-4774000000.0</td>\n",
       "    </tr>\n",
       "    <tr>\n",
       "      <th>DeferredIncomeTax</th>\n",
       "      <td>895000000.0</td>\n",
       "      <td>-4774000000.0</td>\n",
       "    </tr>\n",
       "    <tr>\n",
       "      <th>DepreciationAmortizationDepletion</th>\n",
       "      <td>11104000000.0</td>\n",
       "      <td>11284000000.0</td>\n",
       "    </tr>\n",
       "    <tr>\n",
       "      <th>DepreciationAndAmortization</th>\n",
       "      <td>11104000000.0</td>\n",
       "      <td>11284000000.0</td>\n",
       "    </tr>\n",
       "    <tr>\n",
       "      <th>NetIncomeFromContinuingOperations</th>\n",
       "      <td>99803000000.0</td>\n",
       "      <td>94680000000.0</td>\n",
       "    </tr>\n",
       "  </tbody>\n",
       "</table>\n",
       "</div>"
      ],
      "text/plain": [
       "                                               2022-09-30      2021-09-30\n",
       "FreeCashFlow                               111443000000.0   92953000000.0\n",
       "RepurchaseOfCapitalStock                   -89402000000.0  -85971000000.0\n",
       "RepaymentOfDebt                             -9543000000.0   -8750000000.0\n",
       "IssuanceOfDebt                               9420000000.0   20393000000.0\n",
       "IssuanceOfCapitalStock                                NaN    1105000000.0\n",
       "CapitalExpenditure                         -10708000000.0  -11085000000.0\n",
       "InterestPaidSupplementalData                 2865000000.0    2687000000.0\n",
       "IncomeTaxPaidSupplementalData               19573000000.0   25385000000.0\n",
       "EndCashPosition                             24977000000.0   35929000000.0\n",
       "BeginningCashPosition                       35929000000.0   39789000000.0\n",
       "ChangesInCash                              -10952000000.0   -3860000000.0\n",
       "FinancingCashFlow                         -110749000000.0  -93353000000.0\n",
       "CashFlowFromContinuingFinancingActivities -110749000000.0  -93353000000.0\n",
       "NetOtherFinancingCharges                    -6383000000.0   -6685000000.0\n",
       "CashDividendsPaid                          -14841000000.0  -14467000000.0\n",
       "CommonStockDividendPaid                    -14841000000.0  -14467000000.0\n",
       "NetCommonStockIssuance                     -89402000000.0  -84866000000.0\n",
       "CommonStockPayments                        -89402000000.0  -85971000000.0\n",
       "CommonStockIssuance                                   NaN    1105000000.0\n",
       "NetIssuancePaymentsOfDebt                    -123000000.0   12665000000.0\n",
       "NetShortTermDebtIssuance                     3955000000.0    1022000000.0\n",
       "ShortTermDebtPayments                                 NaN             NaN\n",
       "ShortTermDebtIssuance                        3955000000.0             NaN\n",
       "NetLongTermDebtIssuance                     -4078000000.0   11643000000.0\n",
       "LongTermDebtPayments                        -9543000000.0   -8750000000.0\n",
       "LongTermDebtIssuance                         5465000000.0   20393000000.0\n",
       "InvestingCashFlow                          -22354000000.0  -14545000000.0\n",
       "CashFlowFromContinuingInvestingActivities  -22354000000.0  -14545000000.0\n",
       "NetOtherInvestingChanges                    -1780000000.0    -352000000.0\n",
       "NetInvestmentPurchaseAndSale                -9560000000.0   -3075000000.0\n",
       "SaleOfInvestment                            67363000000.0  106483000000.0\n",
       "PurchaseOfInvestment                       -76923000000.0 -109558000000.0\n",
       "NetBusinessPurchaseAndSale                   -306000000.0     -33000000.0\n",
       "PurchaseOfBusiness                           -306000000.0     -33000000.0\n",
       "NetPPEPurchaseAndSale                      -10708000000.0  -11085000000.0\n",
       "PurchaseOfPPE                              -10708000000.0  -11085000000.0\n",
       "OperatingCashFlow                          122151000000.0  104038000000.0\n",
       "CashFlowFromContinuingOperatingActivities  122151000000.0  104038000000.0\n",
       "ChangeInWorkingCapital                       1200000000.0   -4911000000.0\n",
       "ChangeInOtherWorkingCapital                   478000000.0    1676000000.0\n",
       "ChangeInOtherCurrentLiabilities              5632000000.0    5799000000.0\n",
       "ChangeInOtherCurrentAssets                  -6499000000.0   -8042000000.0\n",
       "ChangeInPayablesAndAccruedExpense            9448000000.0   12326000000.0\n",
       "ChangeInPayable                              9448000000.0   12326000000.0\n",
       "ChangeInAccountPayable                       9448000000.0   12326000000.0\n",
       "ChangeInInventory                            1484000000.0   -2642000000.0\n",
       "ChangeInReceivables                         -9343000000.0  -14028000000.0\n",
       "ChangesInAccountReceivables                 -1823000000.0  -10125000000.0\n",
       "OtherNonCashItems                             111000000.0    -147000000.0\n",
       "StockBasedCompensation                       9038000000.0    7906000000.0\n",
       "DeferredTax                                   895000000.0   -4774000000.0\n",
       "DeferredIncomeTax                             895000000.0   -4774000000.0\n",
       "DepreciationAmortizationDepletion           11104000000.0   11284000000.0\n",
       "DepreciationAndAmortization                 11104000000.0   11284000000.0\n",
       "NetIncomeFromContinuingOperations           99803000000.0   94680000000.0"
      ]
     },
     "execution_count": 8,
     "metadata": {},
     "output_type": "execute_result"
    }
   ],
   "source": [
    "cashflow=aapl.get_cashflow()\n",
    "cashflow = cashflow[['2022-09-30','2021-09-30']]\n",
    "cashflow"
   ]
  },
  {
   "cell_type": "markdown",
   "metadata": {
    "id": "pv6JMo0Wu1Hi"
   },
   "source": [
    "## GROSS PROFIT\n",
    "\n",
    "It represents the difference between a company'stotal revenue and its total cost of sales."
   ]
  },
  {
   "cell_type": "code",
   "execution_count": 15,
   "metadata": {
    "colab": {
     "base_uri": "https://localhost:8080/"
    },
    "id": "L3sZmsgxt7w_",
    "outputId": "22a627b7-e337-496a-877f-5f1d548808f7"
   },
   "outputs": [
    {
     "name": "stdout",
     "output_type": "stream",
     "text": [
      "The Gross Profit of 2022 is  170782000000.0\n",
      "The Gross Profit of 2021 is  152836000000.0\n"
     ]
    }
   ],
   "source": [
    "GP = income.loc['GrossProfit']\n",
    "a,b = GP\n",
    "\n",
    "print('The Gross Profit of 2022 is ', a)\n",
    "print('The Gross Profit of 2021 is ', b)"
   ]
  },
  {
   "cell_type": "markdown",
   "metadata": {
    "id": "NR2t-T4Ru5kn"
   },
   "source": [
    "## TOTAL REVENUE\n",
    "\n",
    "It represents the total money generated by a business/company from all of its sources of income."
   ]
  },
  {
   "cell_type": "code",
   "execution_count": 16,
   "metadata": {
    "colab": {
     "base_uri": "https://localhost:8080/"
    },
    "id": "v5DZUnz9sUiO",
    "outputId": "ed63a3de-e7a6-4c86-c437-448283b97a6c"
   },
   "outputs": [
    {
     "name": "stdout",
     "output_type": "stream",
     "text": [
      "The Total Revenue of 2022 is  170782000000.0\n",
      "The Total Revenue of 2021 is  152836000000.0\n"
     ]
    }
   ],
   "source": [
    "TR = income.loc['TotalRevenue']\n",
    "a,b = GP\n",
    "\n",
    "print('The Total Revenue of 2022 is ', a)\n",
    "print('The Total Revenue of 2021 is ', b)"
   ]
  },
  {
   "cell_type": "markdown",
   "metadata": {
    "id": "qZLQSgQ24B9v"
   },
   "source": [
    "## GROSS PROFIT MARGIN (GPM)\n",
    "\n",
    "It measures the profitability of a company's core business activity before accounting for its cost of other operating activities.\n",
    "\n",
    "GPM is usually given as a percentage of its total revenue.\n",
    "\n",
    "$\\text{Gross Profit Margin} = \\frac{\\text{Sales} - \\text{Cost of Sales}}{\\text{Revenue}} \\times 100\n",
    "$"
   ]
  },
  {
   "cell_type": "code",
   "execution_count": 17,
   "metadata": {
    "colab": {
     "base_uri": "https://localhost:8080/"
    },
    "id": "im16iXNgsUsH",
    "outputId": "0cf7d38c-34ab-4b4a-9fdb-7e4fae62597e"
   },
   "outputs": [
    {
     "name": "stdout",
     "output_type": "stream",
     "text": [
      "The GPM of 2022 is  43.30963056136009 %\n",
      "The GPM of 2022 is  41.77935962516778 %\n"
     ]
    }
   ],
   "source": [
    "GPM = GP * 100 / TR\n",
    "a,b= GPM\n",
    "\n",
    "print('The GPM of 2022 is ',a,'%')\n",
    "print('The GPM of 2022 is ',b,'%')\n"
   ]
  },
  {
   "cell_type": "code",
   "execution_count": 18,
   "metadata": {
    "colab": {
     "base_uri": "https://localhost:8080/",
     "height": 507
    },
    "id": "s_RRK3ULsUue",
    "outputId": "f487390f-6a10-45d6-fb14-fda99b43bbc3"
   },
   "outputs": [
    {
     "data": {
      "image/png": "[encoded data removed]",
      "text/plain": [
       "<Figure size 350x500 with 1 Axes>"
      ]
     },
     "metadata": {},
     "output_type": "display_data"
    }
   ],
   "source": [
    "title=\"Gross Profit Margin\"\n",
    "plot = comparing_2021_2022(GPM, title)"
   ]
  },
  {
   "cell_type": "markdown",
   "metadata": {},
   "source": [
    "Indicates the company is generating a higher percentage of profit to its relative revenue"
   ]
  },
  {
   "cell_type": "markdown",
   "metadata": {
    "id": "p6Sdaof96-62"
   },
   "source": [
    "## OPERATING PROFIT\n",
    "\n",
    "It measures the profitability of a company's core business activity after accounting for its cost of other operating activities but before interest and taxes."
   ]
  },
  {
   "cell_type": "code",
   "execution_count": 19,
   "metadata": {
    "colab": {
     "base_uri": "https://localhost:8080/"
    },
    "id": "4s7HL7JG7J9z",
    "outputId": "d49b36ea-d6ea-4610-a2af-cca041639104"
   },
   "outputs": [
    {
     "name": "stdout",
     "output_type": "stream",
     "text": [
      "The OP of 2022 is  119437000000.0\n",
      "The OP of 2021 is  108949000000.0\n"
     ]
    }
   ],
   "source": [
    "OP = income.loc['OperatingIncome']\n",
    "a,b = OP\n",
    "print('The OP of 2022 is ',a)\n",
    "print('The OP of 2021 is ',b)"
   ]
  },
  {
   "cell_type": "markdown",
   "metadata": {
    "id": "uiGAy3Qq7T39"
   },
   "source": [
    "## OPERATING PROFIT MARGIN (OPM)\n",
    "\n",
    "OPM is operating profit as a percentage of the company's total revenue\n",
    "\n",
    "$\\text{Operating Profit Margin} = \\frac{\\text{Sales} - \\text{Operating Cost}}{\\text{Revenue}} \\times 100\n",
    "$"
   ]
  },
  {
   "cell_type": "code",
   "execution_count": 20,
   "metadata": {
    "colab": {
     "base_uri": "https://localhost:8080/"
    },
    "id": "pjejoIYw7CoE",
    "outputId": "e9f912d2-8e7f-4840-8d22-9a8750354177"
   },
   "outputs": [
    {
     "name": "stdout",
     "output_type": "stream",
     "text": [
      "The OPM of 2022 is  30.288744395528592 %\n",
      "The OPM of 2021 is  29.782377527561593 %\n"
     ]
    }
   ],
   "source": [
    "OPM = ( OP / TR ) * 100\n",
    "a,b = OPM\n",
    "print('The OPM of 2022 is ',a,'%')\n",
    "print('The OPM of 2021 is ',b,'%')"
   ]
  },
  {
   "cell_type": "code",
   "execution_count": 21,
   "metadata": {
    "colab": {
     "base_uri": "https://localhost:8080/",
     "height": 507
    },
    "id": "cf6tKdax7CrR",
    "outputId": "4f29709e-d0b4-4306-f8af-d89d59f483d8"
   },
   "outputs": [
    {
     "data": {
      "image/png": "[encoded data removed]",
      "text/plain": [
       "<Figure size 350x500 with 1 Axes>"
      ]
     },
     "metadata": {},
     "output_type": "display_data"
    }
   ],
   "source": [
    "title=\"Operating Profit Margin\"\n",
    "plot = comparing_2021_2022(OPM, title)"
   ]
  },
  {
   "cell_type": "markdown",
   "metadata": {},
   "source": [
    "Indicates a slight increase in company's ability to generate profit from its operations"
   ]
  },
  {
   "cell_type": "markdown",
   "metadata": {
    "id": "dfqdOWD44kNV"
   },
   "source": [
    "## NET PROFIT\n",
    "\n",
    "It measures the final amount of profit a company has earned after deducting all expenses from its total revenue"
   ]
  },
  {
   "cell_type": "code",
   "execution_count": 22,
   "metadata": {
    "colab": {
     "base_uri": "https://localhost:8080/"
    },
    "id": "35Ym2olz4yQD",
    "outputId": "7079d8e6-cc40-48b0-b946-8b96fef324e6"
   },
   "outputs": [
    {
     "name": "stdout",
     "output_type": "stream",
     "text": [
      "The Net Profit of 2022 is  170782000000.0\n",
      "The Net Profit of 2021 is  152836000000.0\n"
     ]
    }
   ],
   "source": [
    "NP = income.loc['GrossProfit']\n",
    "a,b = NP\n",
    "\n",
    "print('The Net Profit of 2022 is ', a)\n",
    "print('The Net Profit of 2021 is ', b)"
   ]
  },
  {
   "cell_type": "markdown",
   "metadata": {
    "id": "gxZaENJn4-Cb"
   },
   "source": [
    "## NET PROFIT MARGIN (NPM)\n",
    "\n",
    "It is the proportion of net profit of the total revenue.\n",
    "\n",
    "$\\text{Net Profit Margin} = \\frac{\\text{Net Profit}}{\\text{Revenue}} \\times 100\n",
    "$"
   ]
  },
  {
   "cell_type": "code",
   "execution_count": 23,
   "metadata": {
    "colab": {
     "base_uri": "https://localhost:8080/"
    },
    "id": "lcRA1MTGsUwW",
    "outputId": "6c839610-e939-420a-a1a2-c0889ffdd3ff"
   },
   "outputs": [
    {
     "name": "stdout",
     "output_type": "stream",
     "text": [
      "The NPM of 2022 is  43.30963056136009 %\n",
      "The NPM of 2022 is  41.77935962516778 %\n"
     ]
    }
   ],
   "source": [
    "NPM = NP * 100 / TR\n",
    "a,b= NPM\n",
    "\n",
    "print('The NPM of 2022 is ',a,'%')\n",
    "print('The NPM of 2022 is ',b,'%')"
   ]
  },
  {
   "cell_type": "code",
   "execution_count": 24,
   "metadata": {
    "colab": {
     "base_uri": "https://localhost:8080/",
     "height": 507
    },
    "id": "1CKVH86jsUyz",
    "outputId": "b703abae-378e-434c-90e7-4e54df3f118e"
   },
   "outputs": [
    {
     "data": {
      "image/png": "[encoded data removed]",
      "text/plain": [
       "<Figure size 350x500 with 1 Axes>"
      ]
     },
     "metadata": {},
     "output_type": "display_data"
    }
   ],
   "source": [
    "title=\"Net Profit Margin\"\n",
    "plot = comparing_2021_2022(NPM, title)"
   ]
  },
  {
   "cell_type": "markdown",
   "metadata": {},
   "source": [
    "Company's profit for dollar value has increased."
   ]
  },
  {
   "cell_type": "markdown",
   "metadata": {
    "id": "Aar1D4uCvZ5-"
   },
   "source": [
    "## RETURN ON CAPITAL RATIOS\n",
    "\n",
    "It measures the company's ability to generate returns for its capital providers (both debt and equity included).\n",
    "\n",
    "\n",
    "\n",
    "\n",
    "#### **Return on capital employed**\n",
    "\n",
    "It is a financial ratio  measuring a company's profitability and efficiency in generating returns from the capital employed.\n",
    "\n",
    "$\\text{Return on Capital Employed (ROCE)} = \\frac{\\text{Operating Profit}}{\\text{Capital Employed}} \\times 100\n",
    "$"
   ]
  },
  {
   "cell_type": "code",
   "execution_count": 29,
   "metadata": {
    "colab": {
     "base_uri": "https://localhost:8080/"
    },
    "id": "rg7328hIsU2L",
    "outputId": "2af3e0b5-35a9-4c65-b938-b0e0e3b57d93"
   },
   "outputs": [
    {
     "data": {
      "text/plain": [
       "2022-09-30    58.360452\n",
       "2021-09-30    57.776116\n",
       "dtype: object"
      ]
     },
     "execution_count": 29,
     "metadata": {},
     "output_type": "execute_result"
    }
   ],
   "source": [
    "Operating_profit=income.loc['OperatingIncome']\n",
    "Capital_employed=balance.loc['TotalAssets']-balance.loc['TotalNonCurrentLiabilitiesNetMinorityInterest']\n",
    "Return_on_capital_employed=(Operating_profit/Capital_employed)*100\n",
    "\n",
    "Return_on_capital_employed"
   ]
  },
  {
   "cell_type": "code",
   "execution_count": 30,
   "metadata": {
    "colab": {
     "base_uri": "https://localhost:8080/",
     "height": 507
    },
    "id": "2Y1fr7QSxFFp",
    "outputId": "81542c00-bc1b-4ae3-f570-7f44f2d6cfaf"
   },
   "outputs": [
    {
     "data": {
      "image/png": "[encoded data removed]",
      "text/plain": [
       "<Figure size 350x500 with 1 Axes>"
      ]
     },
     "metadata": {},
     "output_type": "display_data"
    }
   ],
   "source": [
    "title=\"Return on capital employed\"\n",
    "plot = comparing_2021_2022(Return_on_capital_employed, title)"
   ]
  },
  {
   "cell_type": "markdown",
   "metadata": {},
   "source": [
    "Indicates that the company is using the capital more efficiently to generate returns. The change is relatively smaller though."
   ]
  },
  {
   "cell_type": "markdown",
   "metadata": {
    "id": "_T7YOv47OZDS"
   },
   "source": [
    "#### **Return on Equity (ROE)**\n",
    "\n",
    "It measures the return generated by a company on its shareholders' equity.\n",
    "\n",
    "$\n",
    "\\text{ROE} = \\left( \\frac{\\text{Shareholders' Equity}}{\\text{Net Income}} \\right) \\times 100\n",
    "$"
   ]
  },
  {
   "cell_type": "code",
   "execution_count": 31,
   "metadata": {
    "colab": {
     "base_uri": "https://localhost:8080/"
    },
    "id": "bzdNJKD42A2T",
    "outputId": "c4ed0170-6d92-4f30-cb5a-efc378625b42"
   },
   "outputs": [
    {
     "data": {
      "text/plain": [
       "2022-09-30    1.969589\n",
       "2021-09-30    1.500713\n",
       "dtype: object"
      ]
     },
     "execution_count": 31,
     "metadata": {},
     "output_type": "execute_result"
    }
   ],
   "source": [
    "Net_profit=income.loc['NetIncome']\n",
    "Equity=balance.loc['StockholdersEquity']\n",
    "Return_on_equity=Net_profit/Equity\n",
    "\n",
    "Return_on_equity"
   ]
  },
  {
   "cell_type": "code",
   "execution_count": 32,
   "metadata": {
    "colab": {
     "base_uri": "https://localhost:8080/",
     "height": 507
    },
    "id": "jWjuwjAy2A5H",
    "outputId": "03ca31a5-eadd-416b-ebc5-6dee99f42e72"
   },
   "outputs": [
    {
     "data": {
      "image/png": "[encoded data removed]",
      "text/plain": [
       "<Figure size 350x500 with 1 Axes>"
      ]
     },
     "metadata": {},
     "output_type": "display_data"
    }
   ],
   "source": [
    "title=\"Return on equity\"\n",
    "plot = comparing_2021_2022(Return_on_equity,title)"
   ]
  },
  {
   "cell_type": "markdown",
   "metadata": {},
   "source": [
    "Although ROE remains quite low, there is an increase which means the company is generating higher returns for its shareholder compared to the year before."
   ]
  },
  {
   "cell_type": "markdown",
   "metadata": {
    "id": "k1gMe_RaOhxa"
   },
   "source": [
    "#### **Return on asset turnover**\n",
    "\n",
    "It measures how efficiently a company is using its assets to generate its operating profit.\n",
    "\n",
    "$\\text{Return on Asset Turnover (Return Asset Turnover)} = \\frac{\\text{Operating Profit}}{\\text{Average Total Assets}}\n",
    "$\n",
    "\n"
   ]
  },
  {
   "cell_type": "code",
   "execution_count": 33,
   "metadata": {
    "colab": {
     "base_uri": "https://localhost:8080/"
    },
    "id": "NrAnMw9e2A79",
    "outputId": "825c049b-8b2d-4da1-cae9-f796779662e4"
   },
   "outputs": [
    {
     "data": {
      "text/plain": [
       "2022-09-30    0.338583\n",
       "2021-09-30    0.310394\n",
       "dtype: object"
      ]
     },
     "execution_count": 33,
     "metadata": {},
     "output_type": "execute_result"
    }
   ],
   "source": [
    "Operating_Profit=income.loc['OperatingIncome']\n",
    "Average_Total_Assets=balance.loc['TotalAssets']\n",
    "Return_asset_turnover=Operating_Profit/Average_Total_Assets\n",
    "\n",
    "Return_asset_turnover"
   ]
  },
  {
   "cell_type": "code",
   "execution_count": 34,
   "metadata": {
    "colab": {
     "base_uri": "https://localhost:8080/",
     "height": 507
    },
    "id": "tdtib7DC2A-o",
    "outputId": "4db2e97c-3776-4663-b8b7-de48539054ad"
   },
   "outputs": [
    {
     "data": {
      "image/png": "[encoded data removed]",
      "text/plain": [
       "<Figure size 350x500 with 1 Axes>"
      ]
     },
     "metadata": {},
     "output_type": "display_data"
    }
   ],
   "source": [
    "title=\"Return asset turnover\"\n",
    "plot = comparing_2021_2022(Return_asset_turnover,title)"
   ]
  },
  {
   "cell_type": "markdown",
   "metadata": {},
   "source": [
    "Company is generating a slightly higher return meaning the company is more efficiently using its assets to generate its operating profit."
   ]
  },
  {
   "cell_type": "markdown",
   "metadata": {
    "id": "MXKkOrJD6Nb6"
   },
   "source": [
    "## ACTIVITY RATIOS\n",
    "\n",
    "These are inancial measurements that evaluate how effective a company is in managing its assets and liabilities in order to generate revenue and profit.\n",
    "\n",
    "#### **ASSET TURNOVER**\n",
    "\n",
    "It is the financial ratio between the value of a company's sales or revenues and the value of its assets.\n",
    "\n",
    "$\\text{Asset Turnover} = \\frac{\\text{Revenue}}{\\text{Capital Employed}}$\n",
    "\n"
   ]
  },
  {
   "cell_type": "code",
   "execution_count": 35,
   "metadata": {
    "colab": {
     "base_uri": "https://localhost:8080/"
    },
    "id": "DF1Sfzp32BDn",
    "outputId": "e6cdc906-7f78-4be8-eba1-4110b40909dd"
   },
   "outputs": [
    {
     "name": "stdout",
     "output_type": "stream",
     "text": [
      "2022-09-30    1.117852\n",
      "2021-09-30    1.042208\n",
      "dtype: object\n"
     ]
    }
   ],
   "source": [
    "TR = income.loc['TotalRevenue']\n",
    "TA = balance.loc['TotalAssets']\n",
    "\n",
    "Asset_turnover = TR/TA\n",
    "\n",
    "print(Asset_turnover)"
   ]
  },
  {
   "cell_type": "code",
   "execution_count": 37,
   "metadata": {
    "colab": {
     "base_uri": "https://localhost:8080/",
     "height": 507
    },
    "id": "Lcw5DdEN73U_",
    "outputId": "75221556-19bd-4907-ab61-9768b0a26281"
   },
   "outputs": [
    {
     "data": {
      "image/png": "[encoded data removed]",
      "text/plain": [
       "<Figure size 350x500 with 1 Axes>"
      ]
     },
     "metadata": {},
     "output_type": "display_data"
    }
   ],
   "source": [
    "title=\"Asset turnover\"\n",
    "plot = comparing_2021_2022(Asset_turnover, title)"
   ]
  },
  {
   "cell_type": "markdown",
   "metadata": {},
   "source": [
    "Company is generaing more revenue for every dollar of assets"
   ]
  },
  {
   "cell_type": "markdown",
   "metadata": {
    "id": "8BVWnI4pCzUc"
   },
   "source": [
    "#### **NON-CURRENT ASSET TURNOVER**\n",
    "\n",
    "It is a financial measurement of the annual revenue generated per unit of non-current assets.\n",
    "\n",
    "$\\text{Non-Current Asset Turnover Ratio} = \\frac{\\text{Revenue}}{\\text{Noncurrent Assets}}$\n"
   ]
  },
  {
   "cell_type": "code",
   "execution_count": 38,
   "metadata": {
    "colab": {
     "base_uri": "https://localhost:8080/"
    },
    "id": "6pM_gbNQ2BFh",
    "outputId": "e2b8e1fd-32a4-42d0-f950-3a60f3a7738e"
   },
   "outputs": [
    {
     "data": {
      "text/plain": [
       "2022-09-30    2.635336\n",
       "2021-09-30    2.124422\n",
       "dtype: object"
      ]
     },
     "execution_count": 38,
     "metadata": {},
     "output_type": "execute_result"
    }
   ],
   "source": [
    "TR = income.loc['TotalRevenue']\n",
    "NCA = balance.loc['LongTermDebt']+ balance.loc['NetTangibleAssets']\n",
    "\n",
    "NCA_turnover = TR/NCA\n",
    "NCA_turnover"
   ]
  },
  {
   "cell_type": "code",
   "execution_count": 39,
   "metadata": {
    "colab": {
     "base_uri": "https://localhost:8080/",
     "height": 507
    },
    "id": "J1jMMwh9CnL_",
    "outputId": "cffcd5b6-18a0-41d6-fc09-61f3c8d8a67a"
   },
   "outputs": [
    {
     "data": {
      "image/png": "[encoded data removed]",
      "text/plain": [
       "<Figure size 350x500 with 1 Axes>"
      ]
     },
     "metadata": {},
     "output_type": "display_data"
    }
   ],
   "source": [
    "title=\"Non-current Asset turnover\"\n",
    "plot = comparing_2021_2022(NCA_turnover,title)"
   ]
  },
  {
   "cell_type": "markdown",
   "metadata": {},
   "source": [
    "Company is utilizing its non-current assets more efficiently to generate revenue."
   ]
  },
  {
   "cell_type": "markdown",
   "metadata": {
    "id": "kpLhUfRuElQm"
   },
   "source": [
    "#### **INVENTORY TURNOVER**\n",
    "\n",
    "It is a financial ratio that represents the amount of times a company has sold and replaced inventory during a given time period. (In this case, annual).\n",
    "\n",
    "$\n",
    "\\text{Inventory Turnover} = \\frac{\\text{Cost of Sales}}{\\text{Average Inventory}} \\times 365 \\text{ days}\n",
    "$"
   ]
  },
  {
   "cell_type": "code",
   "execution_count": 123,
   "metadata": {
    "colab": {
     "base_uri": "https://localhost:8080/"
    },
    "id": "z0cCRfCECn1i",
    "outputId": "b6d97157-5ecf-45b4-8955-f5f3ca721e05"
   },
   "outputs": [
    {
     "name": "stdout",
     "output_type": "stream",
     "text": [
      "2022-09-30     8.075698\n",
      "2021-09-30    11.276593\n",
      "dtype: object\n"
     ]
    }
   ],
   "source": [
    "Average_inventory = balance.loc['Inventory']\n",
    "Cost_of_Sales = income.loc['CostOfRevenue']\n",
    "\n",
    "Inventory_turnover = (Average_inventory/Cost_of_Sales)*365\n",
    "print(Inventory_turnover)"
   ]
  },
  {
   "cell_type": "code",
   "execution_count": 124,
   "metadata": {
    "colab": {
     "base_uri": "https://localhost:8080/",
     "height": 507
    },
    "id": "_Qih938OEsRS",
    "outputId": "bc9b3bc7-5f22-4a3b-eca6-a688f2804ea8"
   },
   "outputs": [
    {
     "data": {
      "image/png": "[encoded data removed]",
      "text/plain": [
       "<Figure size 350x500 with 1 Axes>"
      ]
     },
     "metadata": {},
     "output_type": "display_data"
    }
   ],
   "source": [
    "title=\"Inventory turnover\"\n",
    "plot = comparing_2021_2022(Inventory_turnover, title)"
   ]
  },
  {
   "cell_type": "markdown",
   "metadata": {},
   "source": [
    "Inventory turnover decreased. Could be interpreted as a negative sign since the company's inventory is moving slowly. However, a more in-depth analysis and business contaxt might be needed to be certaiin. "
   ]
  },
  {
   "cell_type": "markdown",
   "metadata": {
    "id": "w4gjdM9DJJa5"
   },
   "source": [
    "## INVESTOR RATIOS\n",
    "\n",
    "These are financial metrics analysts and investors use to evaluate the attractiveness of an investment.\n",
    "\n",
    "#### **P/E RATIOS**\n",
    "\n",
    "It measures the ratio between the current market price of a company's stock  and its earnings per share (EPS).\n",
    "\n",
    "$\\text{P/E Ratio} = \\frac{\\text{Market Price per Share}}{\\text{Earnings per Share (EPS)}}\n",
    "$"
   ]
  },
  {
   "cell_type": "code",
   "execution_count": 125,
   "metadata": {
    "colab": {
     "base_uri": "https://localhost:8080/"
    },
    "id": "983z43r-JD4-",
    "outputId": "add825c3-0c20-409b-f7eb-282cacbf177b"
   },
   "outputs": [
    {
     "name": "stdout",
     "output_type": "stream",
     "text": [
      "2022-09-30     0.64977\n",
      "2021-09-30    0.605883\n",
      "dtype: object\n"
     ]
    }
   ],
   "source": [
    "market_cap = balance.loc[['CommonStock']].sum()\n",
    "earnings = income.loc['NetIncomeCommonStockholders']\n",
    "PE = market_cap/earnings\n",
    "print(PE)"
   ]
  },
  {
   "cell_type": "code",
   "execution_count": 126,
   "metadata": {
    "colab": {
     "base_uri": "https://localhost:8080/",
     "height": 507
    },
    "id": "AA3XlOBSJEAc",
    "outputId": "f805bf3a-7148-4e4b-88e8-4a5193388abe"
   },
   "outputs": [
    {
     "data": {
      "image/png": "[encoded data removed]",
      "text/plain": [
       "<Figure size 350x500 with 1 Axes>"
      ]
     },
     "metadata": {},
     "output_type": "display_data"
    }
   ],
   "source": [
    "title=\"Price/Earnings ratio\"\n",
    "plot = comparing_2021_2022(PE, title)"
   ]
  },
  {
   "cell_type": "markdown",
   "metadata": {},
   "source": [
    "It seems that investors are willing to pay a slightly increased price for the company's earnings."
   ]
  },
  {
   "cell_type": "markdown",
   "metadata": {
    "id": "S2OivrV0JVwp"
   },
   "source": [
    "#### **EARNINGS YIELD**\n",
    "\n",
    "It represents the earnings generated by an investment made relative to its market price.\n",
    "\n",
    "This is the invese of P/E ratio.\n",
    "\n",
    "$ Earnings Yield = \\frac{1}{PE\\,Ratio} = \\frac{Total\\,Earnings}{Total\\,Market\\,Capitalization} $"
   ]
  },
  {
   "cell_type": "code",
   "execution_count": 127,
   "metadata": {
    "colab": {
     "base_uri": "https://localhost:8080/"
    },
    "id": "Qq4puin1JEGM",
    "outputId": "aaa75fee-7648-4ef4-9644-fb1e1c44d462"
   },
   "outputs": [
    {
     "name": "stdout",
     "output_type": "stream",
     "text": [
      "2022-09-30    1.539006\n",
      "2021-09-30    1.650484\n",
      "dtype: object\n"
     ]
    }
   ],
   "source": [
    "earnings_yield = 1/PE\n",
    "print(earnings_yield)"
   ]
  },
  {
   "cell_type": "code",
   "execution_count": 128,
   "metadata": {
    "colab": {
     "base_uri": "https://localhost:8080/",
     "height": 507
    },
    "id": "7t7U3IxoJf0A",
    "outputId": "8733a69b-b309-49b5-9679-f405c2a6c732"
   },
   "outputs": [
    {
     "data": {
      "image/png": "[encoded data removed]",
      "text/plain": [
       "<Figure size 350x500 with 1 Axes>"
      ]
     },
     "metadata": {},
     "output_type": "display_data"
    }
   ],
   "source": [
    "title=\"earnings yield\"\n",
    "plot = comparing_2021_2022(earnings_yield, title)"
   ]
  },
  {
   "cell_type": "markdown",
   "metadata": {},
   "source": [
    "Earnings yield decreased. Suggests investors are willing to accept lower returns on their investments. It is potentially good as it results due to increased stock prices. When there is a big decrease in the earnings yield, it may make the company less profitable for investors and the stock price could be overvalued. However, only a slight decrease here would not pose this concern."
   ]
  },
  {
   "cell_type": "markdown",
   "metadata": {
    "id": "S79f4TuzJjpm"
   },
   "source": [
    "#### **DIVIDEND COVER**\n",
    "\n",
    "It measures the company's ability to pay dividends to the shareholders from the earnings it has made.\n",
    "\n",
    "$\\text{Dividend Cover} = \\frac{\\text{Earning per Share}}{\\text{Dividend per Share}}$\n",
    "\n",
    "      OR\n",
    "\n",
    "$\\text{Dividend Cover} = \\frac{\\text{Total earnings}}{\\text{Total dividend}}$\n"
   ]
  },
  {
   "cell_type": "code",
   "execution_count": 129,
   "metadata": {
    "colab": {
     "base_uri": "https://localhost:8080/"
    },
    "id": "ByR33KSSJh_Z",
    "outputId": "3ced7c69-8ada-45fa-e33f-14ee18009312"
   },
   "outputs": [
    {
     "name": "stdout",
     "output_type": "stream",
     "text": [
      "2022-09-30   -6.724816\n",
      "2021-09-30    -6.54455\n",
      "dtype: object\n"
     ]
    }
   ],
   "source": [
    "netIncome = income.loc['NetIncome']\n",
    "dividendsPaid = cashflow.loc['CommonStockDividendPaid']\n",
    "DividendCover = (netIncome/dividendsPaid)\n",
    "print(DividendCover)"
   ]
  },
  {
   "cell_type": "code",
   "execution_count": 130,
   "metadata": {
    "colab": {
     "base_uri": "https://localhost:8080/",
     "height": 507
    },
    "id": "XxSVHpVQJtPd",
    "outputId": "761cf83f-ed5b-4d65-827a-170e57e534bd"
   },
   "outputs": [
    {
     "data": {
      "image/png": "[encoded data removed]",
      "text/plain": [
       "<Figure size 350x500 with 1 Axes>"
      ]
     },
     "metadata": {},
     "output_type": "display_data"
    }
   ],
   "source": [
    "title=\"Dividend Cover\"\n",
    "plot = comparing_2021_2022(DividendCover, title)"
   ]
  },
  {
   "cell_type": "markdown",
   "metadata": {},
   "source": [
    "The company's ability to pay dividends to the shareholders from the earnings it has made has slightly decreased/ worsened."
   ]
  },
  {
   "cell_type": "markdown",
   "metadata": {},
   "source": [
    "## CONCLUSION\n",
    "\n",
    "Apple has generally showed a positive financial performance (better performance) in 2022 compared to 2021. Profit margins such as GPM & OPM has increased, Asset turnover & Non-current Asset turnover increased as well which suggests better utilization of assets to generate revenue. ROCE & ROE increase suggest more efficient use in capital and slightly better returns for shareholders. \n",
    "\n",
    "Lower inventory turnover might suggest issues with inventory management and reduced earnings yield may be due to slight increase in stock prices and investor confidence, however, further analysis and context needed for a stronger stand on this matter.\n",
    "\n",
    "In conclusion, It would be safe to say that it has improvements in profitability, efficiency in generating profit from operations as well as returns to both capital employed and equity, showing positive financial performance in comparison."
   ]
  }
 ],
 "metadata": {
  "colab": {
   "provenance": []
  },
  "kernelspec": {
   "display_name": "Python 3 (ipykernel)",
   "language": "python",
   "name": "python3"
  },
  "language_info": {
   "codemirror_mode": {
    "name": "ipython",
    "version": 3
   },
   "file_extension": ".py",
   "mimetype": "text/x-python",
   "name": "python",
   "nbconvert_exporter": "python",
   "pygments_lexer": "ipython3",
   "version": "3.11.4"
  }
 },
 "nbformat": 4,
 "nbformat_minor": 1
}
